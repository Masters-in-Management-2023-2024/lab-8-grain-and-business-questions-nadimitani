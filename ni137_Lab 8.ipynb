{
  "cells": [
    {
      "cell_type": "markdown",
      "metadata": {
        "id": "pSeixZpq6oq4"
      },
      "source": [
        "# Diamond Company Analytics Challenge\n",
        "\n",
        "**Time:** 35 minutes\n",
        "\n",
        "**Scenario:** You are the new data analyst at a prestigious diamond company. The CEO has called an urgent meeting and needs answers to critical business questions about the inventory.\n",
        "\n",
        "**Your Mission:** Analyze the diamond inventory data and provide insights to guide strategic decisions."
      ]
    },
    {
      "cell_type": "code",
      "execution_count": 3,
      "metadata": {
        "colab": {
          "base_uri": "https://localhost:8080/"
        },
        "id": "qtB17Cex6oq5",
        "outputId": "60ae436e-04af-4430-cd8f-1cb08264674d"
      },
      "outputs": [
        {
          "output_type": "stream",
          "name": "stdout",
          "text": [
            "Loading diamonds dataset...\n",
            "Dataset loaded successfully!\n"
          ]
        }
      ],
      "source": [
        "import polars as pl\n",
        "\n",
        "# Load the diamonds dataset\n",
        "print(\"Loading diamonds dataset...\")\n",
        "df = pl.read_csv('https://raw.githubusercontent.com/pycaret/pycaret/master/datasets/diamond.csv')\n",
        "print(\"Dataset loaded successfully!\")"
      ]
    },
    {
      "cell_type": "markdown",
      "metadata": {
        "id": "BkcAW6hG6oq6"
      },
      "source": [
        "## Section 1: Initial Inventory Assessment (5 minutes)\n",
        "\n",
        "The CEO walks in: \"Before we dive into specifics, I need to understand what we're working with. Give me the basics about our inventory database.\""
      ]
    },
    {
      "cell_type": "markdown",
      "metadata": {
        "id": "j2E2Ov8m6oq6"
      },
      "source": [
        "### Question 1: \"How extensive is our inventory database?\"\n",
        "\n",
        "The CEO needs to know the scale of data you're analyzing."
      ]
    },
    {
      "cell_type": "code",
      "execution_count": 4,
      "metadata": {
        "colab": {
          "base_uri": "https://localhost:8080/"
        },
        "id": "V1Fml3e-6oq6",
        "outputId": "4890fdc7-6201-4ad3-f976-6c626ed1ff20"
      },
      "outputs": [
        {
          "output_type": "stream",
          "name": "stdout",
          "text": [
            "Our inventory contains 6000 diamonds with 8 attributes each.\n"
          ]
        }
      ],
      "source": [
        "\n",
        "\n",
        "num_rows = df.height\n",
        "num_columns = df.width\n",
        "\n",
        "print(f\"Our inventory contains {num_rows} diamonds with {num_columns} attributes each.\")"
      ]
    },
    {
      "cell_type": "markdown",
      "metadata": {
        "id": "zErw-7PF6oq6"
      },
      "source": [
        "### Question 2: \"What information do we track about each diamond?\"\n",
        "\n",
        "List all the characteristics we record."
      ]
    },
    {
      "cell_type": "code",
      "execution_count": 5,
      "metadata": {
        "colab": {
          "base_uri": "https://localhost:8080/"
        },
        "id": "stnpVvKc6oq6",
        "outputId": "2609da8d-1d9d-40fc-9ad4-f1b376d4c878"
      },
      "outputs": [
        {
          "output_type": "stream",
          "name": "stdout",
          "text": [
            "We track the following characteristics for each diamond:\n",
            "['Carat Weight', 'Cut', 'Color', 'Clarity', 'Polish', 'Symmetry', 'Report', 'Price']\n"
          ]
        }
      ],
      "source": [
        "print(\"We track the following characteristics for each diamond:\")\n",
        "print(df.columns)\n"
      ]
    },
    {
      "cell_type": "markdown",
      "metadata": {
        "id": "U5b5ZV8O6oq6"
      },
      "source": [
        "### Question 3: \"When I look at one line in this database, what am I looking at?\"\n",
        "\n",
        "Explain in business terms:"
      ]
    },
    {
      "cell_type": "markdown",
      "metadata": {
        "id": "Y0-Us3II6oq7"
      },
      "source": [
        "**Your answer:** Each row represents: Each line in the database is one diamond in our inventory. It shows the weight in carats, the cut quality, the color, the clarity, the depth, the table size, the dimensions, and the price."
      ]
    },
    {
      "cell_type": "markdown",
      "metadata": {
        "id": "7G0gWaLo6oq7"
      },
      "source": [
        "## Section 2: Strategic Business Questions (20 minutes)\n",
        "\n",
        "The CEO continues: \"Now let's get to the important questions. Our board meeting is tomorrow and I need concrete numbers.\""
      ]
    },
    {
      "cell_type": "markdown",
      "metadata": {
        "id": "AvXrYaeM6oq7"
      },
      "source": [
        "### Question 4: \"We're considering expanding our storage facilities. How many total carats do we have in inventory? I need to know if our vaults can handle the weight.\"\n",
        "\n",
        "Think about what measurement would help answer this."
      ]
    },
    {
      "cell_type": "code",
      "execution_count": 7,
      "metadata": {
        "colab": {
          "base_uri": "https://localhost:8080/"
        },
        "id": "HbA0KyFV6oq7",
        "outputId": "38d07196-f1f2-48de-fed1-a557df840b36"
      },
      "outputs": [
        {
          "output_type": "stream",
          "name": "stdout",
          "text": [
            "The total carat weight in our inventory is 8007.120000000001 carats.\n"
          ]
        }
      ],
      "source": [
        "total_carats = df[\"Carat Weight\"].sum()\n",
        "print(f\"The total carat weight in our inventory is {total_carats} carats.\")"
      ]
    },
    {
      "cell_type": "markdown",
      "metadata": {
        "id": "OFCR9FIV6oq7"
      },
      "source": [
        "### Question 5: \"Our new marketing campaign claims we have 'the widest variety of cuts in the industry.' Can you verify this?\"\n",
        "\n",
        "The CEO wants to know about variety, not quantity."
      ]
    },
    {
      "cell_type": "code",
      "execution_count": 8,
      "metadata": {
        "colab": {
          "base_uri": "https://localhost:8080/"
        },
        "id": "miTKOOxd6oq7",
        "outputId": "6ad8d115-711a-4741-f4ee-ecf7a51b82bd"
      },
      "outputs": [
        {
          "output_type": "stream",
          "name": "stdout",
          "text": [
            "We have 5 unique diamond cuts: shape: (5,)\n",
            "Series: 'Cut' [str]\n",
            "[\n",
            "\t\"Ideal\"\n",
            "\t\"Very Good\"\n",
            "\t\"Good\"\n",
            "\t\"Fair\"\n",
            "\t\"Signature-Ideal\"\n",
            "]\n"
          ]
        }
      ],
      "source": [
        "unique_cuts = df[\"Cut\"].unique()\n",
        "num_unique_cuts = len(unique_cuts)\n",
        "\n",
        "print(f\"We have {num_unique_cuts} unique diamond cuts: {unique_cuts}\")\n"
      ]
    },
    {
      "cell_type": "markdown",
      "metadata": {
        "id": "PtxRBpLt6oq7"
      },
      "source": [
        "### Question 6: \"I'm meeting with our insurance company. They need to know our price exposure - what's our most and least valuable diamond?\""
      ]
    },
    {
      "cell_type": "code",
      "execution_count": 9,
      "metadata": {
        "colab": {
          "base_uri": "https://localhost:8080/"
        },
        "id": "ClGUgK6V6oq7",
        "outputId": "f5138b39-7332-4488-cf82-63e51362b42a"
      },
      "outputs": [
        {
          "output_type": "stream",
          "name": "stdout",
          "text": [
            "Most valuable diamond:\n",
            "shape: (1, 8)\n",
            "┌──────────────┬───────┬───────┬─────────┬────────┬──────────┬────────┬────────┐\n",
            "│ Carat Weight ┆ Cut   ┆ Color ┆ Clarity ┆ Polish ┆ Symmetry ┆ Report ┆ Price  │\n",
            "│ ---          ┆ ---   ┆ ---   ┆ ---     ┆ ---    ┆ ---      ┆ ---    ┆ ---    │\n",
            "│ f64          ┆ str   ┆ str   ┆ str     ┆ str    ┆ str      ┆ str    ┆ i64    │\n",
            "╞══════════════╪═══════╪═══════╪═════════╪════════╪══════════╪════════╪════════╡\n",
            "│ 2.79         ┆ Ideal ┆ D     ┆ IF      ┆ EX     ┆ EX       ┆ GIA    ┆ 101561 │\n",
            "└──────────────┴───────┴───────┴─────────┴────────┴──────────┴────────┴────────┘\n",
            "\n",
            "Least valuable diamond:\n",
            "shape: (1, 8)\n",
            "┌──────────────┬──────┬───────┬─────────┬────────┬──────────┬────────┬───────┐\n",
            "│ Carat Weight ┆ Cut  ┆ Color ┆ Clarity ┆ Polish ┆ Symmetry ┆ Report ┆ Price │\n",
            "│ ---          ┆ ---  ┆ ---   ┆ ---     ┆ ---    ┆ ---      ┆ ---    ┆ ---   │\n",
            "│ f64          ┆ str  ┆ str   ┆ str     ┆ str    ┆ str      ┆ str    ┆ i64   │\n",
            "╞══════════════╪══════╪═══════╪═════════╪════════╪══════════╪════════╪═══════╡\n",
            "│ 0.77         ┆ Good ┆ I     ┆ VS1     ┆ VG     ┆ G        ┆ AGSL   ┆ 2184  │\n",
            "└──────────────┴──────┴───────┴─────────┴────────┴──────────┴────────┴───────┘\n"
          ]
        }
      ],
      "source": [
        "most_valuable = df.sort(\"Price\", descending=True).head(1)\n",
        "least_valuable = df.sort(\"Price\").head(1)\n",
        "\n",
        "print(\"Most valuable diamond:\")\n",
        "print(most_valuable)\n",
        "\n",
        "print(\"\\nLeast valuable diamond:\")\n",
        "print(least_valuable)\n"
      ]
    },
    {
      "cell_type": "markdown",
      "metadata": {
        "id": "57socCic6oq7"
      },
      "source": [
        "### Question 7: \"Which color grades should we focus on in our premium line? I need typical prices across our color spectrum.\"\n",
        "\n",
        "The CEO wants to understand pricing patterns."
      ]
    },
    {
      "cell_type": "code",
      "execution_count": 11,
      "metadata": {
        "colab": {
          "base_uri": "https://localhost:8080/"
        },
        "id": "1IeO1Wyk6oq7",
        "outputId": "d5e3fbeb-4283-47c7-f922-75841666a639"
      },
      "outputs": [
        {
          "output_type": "stream",
          "name": "stdout",
          "text": [
            "shape: (6, 2)\n",
            "┌───────┬───────────────┐\n",
            "│ Color ┆ Average Price │\n",
            "│ ---   ┆ ---           │\n",
            "│ str   ┆ f64           │\n",
            "╞═══════╪═══════════════╡\n",
            "│ D     ┆ 15255.783661  │\n",
            "│ F     ┆ 12712.241856  │\n",
            "│ G     ┆ 12520.050633  │\n",
            "│ E     ┆ 11539.190231  │\n",
            "│ H     ┆ 10487.347544  │\n",
            "│ I     ┆ 8989.636364   │\n",
            "└───────┴───────────────┘\n"
          ]
        }
      ],
      "source": [
        "avg_price_by_color = df.group_by(\"Color\").agg(\n",
        "    pl.col(\"Price\").mean().alias(\"Average Price\")\n",
        ").sort(\"Average Price\", descending=True)\n",
        "\n",
        "print(avg_price_by_color)"
      ]
    },
    {
      "cell_type": "markdown",
      "metadata": {
        "id": "ilnGWEjP6oq7"
      },
      "source": [
        "**Reflection:** After analyzing by color, how has your view of the data changed? What does each row in your result represent now?"
      ]
    },
    {
      "cell_type": "markdown",
      "metadata": {
        "id": "o8mIh_hT6oq7"
      },
      "source": [
        "**Your answer:** New grain = Each row now represents a color grade and its average price. Instead of looking at individual diamonds, we’re looking at summarized pricing information for each color category."
      ]
    },
    {
      "cell_type": "markdown",
      "metadata": {
        "id": "NhQGFkVS6oq7"
      },
      "source": [
        "## Section 3: Advanced Strategic Analysis (10 minutes)\n",
        "\n",
        "The CEO leans forward: \"These next questions will shape our strategy for next year.\""
      ]
    },
    {
      "cell_type": "markdown",
      "metadata": {
        "id": "xj37LFpf6oq7"
      },
      "source": [
        "### Question 8: \"We're thinking of specializing in certain clarity grades. For our investor deck, I need a complete breakdown showing: how many diamonds we have in each clarity grade, their typical price, and the total carats we're holding for each grade.\""
      ]
    },
    {
      "cell_type": "code",
      "execution_count": 12,
      "metadata": {
        "colab": {
          "base_uri": "https://localhost:8080/"
        },
        "id": "FM3gMUGe6oq8",
        "outputId": "ef47e284-f1dd-478a-e2e9-7895dfa3a082"
      },
      "outputs": [
        {
          "output_type": "stream",
          "name": "stdout",
          "text": [
            "shape: (7, 4)\n",
            "┌─────────┬───────┬───────────────┬──────────────┐\n",
            "│ Clarity ┆ Count ┆ Average Price ┆ Total Carats │\n",
            "│ ---     ┆ ---   ┆ ---           ┆ ---          │\n",
            "│ str     ┆ u32   ┆ f64           ┆ f64          │\n",
            "╞═════════╪═══════╪═══════════════╪══════════════╡\n",
            "│ SI1     ┆ 2059  ┆ 8018.86       ┆ 2563.69      │\n",
            "│ VS2     ┆ 1575  ┆ 11809.05      ┆ 2170.81      │\n",
            "│ VS1     ┆ 1192  ┆ 13694.11      ┆ 1682.74      │\n",
            "│ VVS2    ┆ 666   ┆ 14142.18      ┆ 876.58       │\n",
            "│ VVS1    ┆ 285   ┆ 16845.68      ┆ 389.43       │\n",
            "│ IF      ┆ 219   ┆ 22105.84      ┆ 316.0        │\n",
            "│ FL      ┆ 4     ┆ 63776.0       ┆ 7.87         │\n",
            "└─────────┴───────┴───────────────┴──────────────┘\n"
          ]
        }
      ],
      "source": [
        "summary_by_clarity = (\n",
        "    df.group_by(\"Clarity\")\n",
        "      .agg([\n",
        "          pl.len().alias(\"Count\"),\n",
        "          pl.col(\"Price\").mean().round(2).alias(\"Average Price\"),\n",
        "          pl.col(\"Carat Weight\").sum().round(2).alias(\"Total Carats\")\n",
        "      ])\n",
        "      .sort(\"Count\", descending=True)\n",
        ")\n",
        "\n",
        "print(summary_by_clarity)\n"
      ]
    },
    {
      "cell_type": "markdown",
      "metadata": {
        "id": "mUU30-Am6oq8"
      },
      "source": [
        "### Question 9: \"My luxury competitor claims they have the best prices for every cut-color combination. Show me our pricing structure across these combinations - I want to see where we're competitive.\""
      ]
    },
    {
      "cell_type": "code",
      "execution_count": 13,
      "metadata": {
        "colab": {
          "base_uri": "https://localhost:8080/"
        },
        "id": "XXT2mOMo6oq8",
        "outputId": "25ae5f8b-61fe-479d-9f1c-7b67e83f2fda"
      },
      "outputs": [
        {
          "output_type": "stream",
          "name": "stdout",
          "text": [
            "shape: (30, 3)\n",
            "┌───────────┬───────┬───────────────┐\n",
            "│ Cut       ┆ Color ┆ Average Price │\n",
            "│ ---       ┆ ---   ┆ ---           │\n",
            "│ str       ┆ str   ┆ f64           │\n",
            "╞═══════════╪═══════╪═══════════════╡\n",
            "│ Fair      ┆ D     ┆ 6058.25       │\n",
            "│ Fair      ┆ E     ┆ 5370.63       │\n",
            "│ Fair      ┆ F     ┆ 6063.63       │\n",
            "│ Fair      ┆ G     ┆ 7345.52       │\n",
            "│ Fair      ┆ H     ┆ 5908.5        │\n",
            "│ …         ┆ …     ┆ …             │\n",
            "│ Very Good ┆ E     ┆ 12101.91      │\n",
            "│ Very Good ┆ F     ┆ 12413.91      │\n",
            "│ Very Good ┆ G     ┆ 12354.01      │\n",
            "│ Very Good ┆ H     ┆ 10056.11      │\n",
            "│ Very Good ┆ I     ┆ 8930.03       │\n",
            "└───────────┴───────┴───────────────┘\n"
          ]
        }
      ],
      "source": [
        "cut_color_prices = (\n",
        "    df.group_by([\"Cut\", \"Color\"])\n",
        "      .agg(pl.col(\"Price\").mean().round(2).alias(\"Average Price\"))\n",
        "      .sort([\"Cut\", \"Color\"])\n",
        ")\n",
        "\n",
        "print(cut_color_prices)\n"
      ]
    },
    {
      "cell_type": "markdown",
      "metadata": {
        "id": "njj0d97n6oq8"
      },
      "source": [
        "**Reflection:** How specific is your analysis now? What level of detail does each row represent?"
      ]
    },
    {
      "cell_type": "markdown",
      "metadata": {
        "id": "fmDStMg36oq8"
      },
      "source": [
        "**Your answer:** New grain = Each row now represents a specific combination of cut and color, showing the typical price for that exact combination. This is much more detailed than looking at cut or color separately."
      ]
    },
    {
      "cell_type": "markdown",
      "metadata": {
        "id": "D5Wq_YV76oq8"
      },
      "source": [
        "### Question 10: URGENT - \"Our biggest client is interested in purchasing entire inventory segments. They asked: 'Which color-cut combinations represent your highest total inventory value?' Show me the top 5 most valuable inventory segments by total worth, and include how many diamonds are in each segment.\"\n",
        "\n",
        "This is critical for tomorrow's negotiation."
      ]
    },
    {
      "cell_type": "code",
      "execution_count": 14,
      "metadata": {
        "colab": {
          "base_uri": "https://localhost:8080/"
        },
        "id": "-Cb5kby46oq8",
        "outputId": "40e6fb0b-da72-4161-bca9-a6da966e2aa3"
      },
      "outputs": [
        {
          "output_type": "stream",
          "name": "stdout",
          "text": [
            "shape: (5, 4)\n",
            "┌───────────┬───────┬───────┬─────────────┐\n",
            "│ Cut       ┆ Color ┆ Count ┆ Total Value │\n",
            "│ ---       ┆ ---   ┆ ---   ┆ ---         │\n",
            "│ str       ┆ str   ┆ u32   ┆ i64         │\n",
            "╞═══════════╪═══════╪═══════╪═════════════╡\n",
            "│ Ideal     ┆ G     ┆ 690   ┆ 9363514     │\n",
            "│ Very Good ┆ G     ┆ 578   ┆ 7140620     │\n",
            "│ Very Good ┆ F     ┆ 455   ┆ 5648327     │\n",
            "│ Ideal     ┆ F     ┆ 363   ┆ 5346782     │\n",
            "│ Ideal     ┆ H     ┆ 458   ┆ 5279687     │\n",
            "└───────────┴───────┴───────┴─────────────┘\n"
          ]
        }
      ],
      "source": [
        "top_segments = (\n",
        "    df.group_by([\"Cut\", \"Color\"])\n",
        "      .agg([\n",
        "          pl.len().alias(\"Count\"),\n",
        "          pl.col(\"Price\").sum().round(2).alias(\"Total Value\")\n",
        "      ])\n",
        "      .sort(\"Total Value\", descending=True)\n",
        "      .head(5)\n",
        ")\n",
        "\n",
        "print(top_segments)\n"
      ]
    },
    {
      "cell_type": "markdown",
      "metadata": {
        "id": "ebrm7Q7j6oq8"
      },
      "source": [
        "## Debrief\n",
        "\n",
        "Congratulations! You've just completed your first day as the diamond company's data analyst.\n",
        "\n",
        "Remember:\n",
        "- CEOs speak in business language, not technical terms\n",
        "- Always understand what each row represents before analyzing\n",
        "- Business questions contain clues about which operations to use"
      ]
    }
  ],
  "metadata": {
    "kernelspec": {
      "display_name": "Python 3",
      "language": "python",
      "name": "python3"
    },
    "language_info": {
      "codemirror_mode": {
        "name": "ipython",
        "version": 3
      },
      "file_extension": ".py",
      "mimetype": "text/x-python",
      "name": "python",
      "nbconvert_exporter": "python",
      "pygments_lexer": "ipython3",
      "version": "3.12.0"
    },
    "colab": {
      "provenance": []
    }
  },
  "nbformat": 4,
  "nbformat_minor": 0
}
